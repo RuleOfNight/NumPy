{
  "nbformat": 4,
  "nbformat_minor": 0,
  "metadata": {
    "colab": {
      "provenance": [],
      "authorship_tag": "ABX9TyMn7qlj8ZSES4+esWLr/U+F",
      "include_colab_link": true
    },
    "kernelspec": {
      "name": "python3",
      "display_name": "Python 3"
    },
    "language_info": {
      "name": "python"
    }
  },
  "cells": [
    {
      "cell_type": "markdown",
      "metadata": {
        "id": "view-in-github",
        "colab_type": "text"
      },
      "source": [
        "<a href=\"https://colab.research.google.com/github/RuleOfNight/NumPy/blob/main/Basic.ipynb\" target=\"_parent\"><img src=\"https://colab.research.google.com/assets/colab-badge.svg\" alt=\"Open In Colab\"/></a>"
      ]
    },
    {
      "cell_type": "code",
      "execution_count": 5,
      "metadata": {
        "colab": {
          "base_uri": "https://localhost:8080/"
        },
        "id": "bdKCO1abPoYJ",
        "outputId": "ff5ddc40-03a2-4736-9d10-9080501f2769"
      },
      "outputs": [
        {
          "output_type": "stream",
          "name": "stdout",
          "text": [
            "[[1 2 3]]\n",
            "[1 2 3]\n"
          ]
        }
      ],
      "source": [
        "import numpy as np\n",
        "\n",
        "#Ép kiểu của list thành array\n",
        "list = [[1,2,3]]\n",
        "a = np.array(list)\n",
        "print(a)\n",
        "a = np.array([1,2,3])\n",
        "print(a)"
      ]
    },
    {
      "cell_type": "code",
      "source": [
        "#Đếm số chiều của mảng\n",
        "a.ndim\n",
        "print(a.ndim)\n",
        "b = np.array([[1,2,3],[4,5,6]])\n",
        "print(b.ndim)"
      ],
      "metadata": {
        "colab": {
          "base_uri": "https://localhost:8080/"
        },
        "id": "edfJrdawvMge",
        "outputId": "ca4259da-dcbc-496d-a24e-b64cd5395204"
      },
      "execution_count": 8,
      "outputs": [
        {
          "output_type": "stream",
          "name": "stdout",
          "text": [
            "1\n",
            "2\n"
          ]
        }
      ]
    },
    {
      "cell_type": "code",
      "source": [
        "#Đếm số hàng và cột\n",
        "a.shape\n",
        "list = [\n",
        "    [1,2,3],\n",
        "    [4,5,6],\n",
        "    [7,8,9]\n",
        "]\n",
        "a = np.array(list)\n",
        "print(a.shape)"
      ],
      "metadata": {
        "colab": {
          "base_uri": "https://localhost:8080/"
        },
        "id": "3B1nTfsWvt0K",
        "outputId": "42348b27-a3de-4a08-d891-ae021ddbb274"
      },
      "execution_count": 10,
      "outputs": [
        {
          "output_type": "stream",
          "name": "stdout",
          "text": [
            "(3, 3)\n"
          ]
        }
      ]
    },
    {
      "cell_type": "code",
      "source": [
        "#Tạo 1 ma trận chỉ toàn 0\n",
        "a = np.zeros((4,5))\n",
        "print(a)"
      ],
      "metadata": {
        "colab": {
          "base_uri": "https://localhost:8080/"
        },
        "id": "0B_lcGhrv6_X",
        "outputId": "ab5b95f0-86a6-40d8-923d-e06c64e27ac6"
      },
      "execution_count": 14,
      "outputs": [
        {
          "output_type": "stream",
          "name": "stdout",
          "text": [
            "[[0. 0. 0. 0. 0.]\n",
            " [0. 0. 0. 0. 0.]\n",
            " [0. 0. 0. 0. 0.]\n",
            " [0. 0. 0. 0. 0.]]\n"
          ]
        }
      ]
    },
    {
      "cell_type": "code",
      "source": [
        "#Tạo 1 ma trận chỉ toàn 1\n",
        "a = np.ones((6,3))\n",
        "print(a)"
      ],
      "metadata": {
        "colab": {
          "base_uri": "https://localhost:8080/"
        },
        "id": "ZZ2kVNPpwZa1",
        "outputId": "5ee210b9-0166-4f03-ea2a-69be115fa118"
      },
      "execution_count": 16,
      "outputs": [
        {
          "output_type": "stream",
          "name": "stdout",
          "text": [
            "[[1. 1. 1.]\n",
            " [1. 1. 1.]\n",
            " [1. 1. 1.]\n",
            " [1. 1. 1.]\n",
            " [1. 1. 1.]\n",
            " [1. 1. 1.]]\n"
          ]
        }
      ]
    },
    {
      "cell_type": "code",
      "source": [
        "#Định dạng kiểu dữ liệu\n",
        "a.dtype\n",
        "a = np.zeros((5,5), dtype='int32')\n",
        "print(a)"
      ],
      "metadata": {
        "colab": {
          "base_uri": "https://localhost:8080/"
        },
        "id": "FSPu6gmvwf2p",
        "outputId": "17f3df8a-48c0-491f-804e-9f3576b61a6b"
      },
      "execution_count": 17,
      "outputs": [
        {
          "output_type": "stream",
          "name": "stdout",
          "text": [
            "[[0 0 0 0 0]\n",
            " [0 0 0 0 0]\n",
            " [0 0 0 0 0]\n",
            " [0 0 0 0 0]\n",
            " [0 0 0 0 0]]\n"
          ]
        }
      ]
    },
    {
      "cell_type": "code",
      "source": [
        "import random\n",
        "row = col = 4\n",
        "list = []\n",
        "\n",
        "\n",
        "for i in range(0,row+1):\n",
        "  row = []\n",
        "  for element in range(0,col+1):\n",
        "    row.append(random.randrange(0,101))\n",
        "  list.append(row)\n",
        "\n",
        "a = np.array(list)\n",
        "\n",
        "for i in list:\n",
        "  for j in i:\n",
        "    print('{:<5}'.format(j), end='')\n",
        "  print()"
      ],
      "metadata": {
        "colab": {
          "base_uri": "https://localhost:8080/"
        },
        "id": "0xhbkGOKwr7R",
        "outputId": "14749dcb-9eb7-49ad-d423-af7f07998921"
      },
      "execution_count": 64,
      "outputs": [
        {
          "output_type": "stream",
          "name": "stdout",
          "text": [
            "12   4    78   52   62   \n",
            "38   42   94   68   16   \n",
            "98   30   76   44   64   \n",
            "40   35   14   44   49   \n",
            "9    36   30   2    37   \n"
          ]
        }
      ]
    },
    {
      "cell_type": "code",
      "source": [
        "#Lấy kích cỡ mảng\n",
        "print(a.itemsize)"
      ],
      "metadata": {
        "colab": {
          "base_uri": "https://localhost:8080/"
        },
        "id": "LxGqz2zR0u0h",
        "outputId": "3b5ff78d-6664-41ed-ca70-83f6a152948f"
      },
      "execution_count": 54,
      "outputs": [
        {
          "output_type": "stream",
          "name": "stdout",
          "text": [
            "8\n"
          ]
        }
      ]
    },
    {
      "cell_type": "code",
      "source": [
        "#Lấy số lượng ptu có trong mảng\n",
        "print(a.size)"
      ],
      "metadata": {
        "colab": {
          "base_uri": "https://localhost:8080/"
        },
        "id": "-zFN7UzQ1Aur",
        "outputId": "1e26b068-5d40-4a6a-897b-83c9c766f5ba"
      },
      "execution_count": 56,
      "outputs": [
        {
          "output_type": "stream",
          "name": "stdout",
          "text": [
            "25\n"
          ]
        }
      ]
    },
    {
      "cell_type": "code",
      "source": [
        "#In ra giá trị tại 1 vị trí cụ thể\n",
        "print(a[1][1])\n",
        "print(a[4,2])\n",
        "#Chọn cả 1 vùng\n",
        "print(a[:,1])\n",
        "print(a[4,:])\n",
        "\n",
        "print(a[1:-1,2:-2])"
      ],
      "metadata": {
        "colab": {
          "base_uri": "https://localhost:8080/"
        },
        "id": "Qa3BLznn1FZ8",
        "outputId": "7ecf931a-36ca-49c0-cf94-cea7ef4b4adc"
      },
      "execution_count": 73,
      "outputs": [
        {
          "output_type": "stream",
          "name": "stdout",
          "text": [
            "42\n",
            "30\n",
            "[ 4 42 30 35 36]\n",
            "[ 9 36 30  2 37]\n",
            "[[94]\n",
            " [76]\n",
            " [14]]\n"
          ]
        }
      ]
    },
    {
      "cell_type": "markdown",
      "source": [
        "Hình ảnh 1 ma trận trong lập trình để dễ hình dung các vị trí âm\n",
        "\n",
        "\n",
        "\n",
        "\n",
        "![screenshot_1731658534.png](data:image/png;base64,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)"
      ],
      "metadata": {
        "id": "3S5qv7ux4o_s"
      }
    },
    {
      "cell_type": "code",
      "source": [
        "#Tạo 1 ma trận toàn số tự chọn\n",
        "num =10\n",
        "np.full((2,2),num)"
      ],
      "metadata": {
        "colab": {
          "base_uri": "https://localhost:8080/"
        },
        "id": "StxVJ4n43Vs2",
        "outputId": "1fca4e6f-7b06-40cb-aafd-fddf9ea532d7"
      },
      "execution_count": 75,
      "outputs": [
        {
          "output_type": "execute_result",
          "data": {
            "text/plain": [
              "array([[10, 10],\n",
              "       [10, 10]])"
            ]
          },
          "metadata": {},
          "execution_count": 75
        }
      ]
    },
    {
      "cell_type": "code",
      "source": [
        "#Tạo ma trận đơn vị\n",
        "np.identity(5)"
      ],
      "metadata": {
        "colab": {
          "base_uri": "https://localhost:8080/"
        },
        "id": "wYsgpdn73gIG",
        "outputId": "1822769e-8e23-437a-eee0-9f578ecf9f3f"
      },
      "execution_count": 76,
      "outputs": [
        {
          "output_type": "execute_result",
          "data": {
            "text/plain": [
              "array([[1., 0., 0., 0., 0.],\n",
              "       [0., 1., 0., 0., 0.],\n",
              "       [0., 0., 1., 0., 0.],\n",
              "       [0., 0., 0., 1., 0.],\n",
              "       [0., 0., 0., 0., 1.]])"
            ]
          },
          "metadata": {},
          "execution_count": 76
        }
      ]
    },
    {
      "cell_type": "code",
      "source": [
        "#Tính toán ma trận cơ bản\n",
        "a = np.array([1,2,3,4])\n",
        "print(a)\n",
        "print(a+2)\n",
        "print(a-2)\n",
        "print(a*2)\n",
        "print(a/2)"
      ],
      "metadata": {
        "colab": {
          "base_uri": "https://localhost:8080/"
        },
        "id": "Sx226xoy3jMt",
        "outputId": "8c5d4bdb-a079-48e8-abb9-220b5cd5dd96"
      },
      "execution_count": 77,
      "outputs": [
        {
          "output_type": "stream",
          "name": "stdout",
          "text": [
            "[1 2 3 4]\n",
            "[3 4 5 6]\n",
            "[-1  0  1  2]\n",
            "[2 4 6 8]\n",
            "[0.5 1.  1.5 2. ]\n"
          ]
        }
      ]
    },
    {
      "cell_type": "code",
      "source": [
        "#Lượng giác và các cthuc khác\n",
        "print(np.cos(a))\n",
        "print(np.sin(a))\n",
        "print(np.tan(a))\n",
        "print(np.sqrt(a))\n",
        "print(np.log(a))\n",
        "print(np.exp(a))\n"
      ],
      "metadata": {
        "colab": {
          "base_uri": "https://localhost:8080/"
        },
        "id": "3k3INWVN3nRU",
        "outputId": "43ee213c-b6f0-45bf-dc5a-d18d9d35b7b8"
      },
      "execution_count": 78,
      "outputs": [
        {
          "output_type": "stream",
          "name": "stdout",
          "text": [
            "[ 0.54030231 -0.41614684 -0.9899925  -0.65364362]\n",
            "[ 0.84147098  0.90929743  0.14112001 -0.7568025 ]\n",
            "[ 1.55740772 -2.18503986 -0.14254654  1.15782128]\n",
            "[1.         1.41421356 1.73205081 2.        ]\n",
            "[0.         0.69314718 1.09861229 1.38629436]\n",
            "[ 2.71828183  7.3890561  20.08553692 54.59815003]\n"
          ]
        }
      ]
    }
  ]
}