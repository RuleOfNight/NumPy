{
  "nbformat": 4,
  "nbformat_minor": 0,
  "metadata": {
    "colab": {
      "provenance": [],
      "authorship_tag": "ABX9TyMrpyaSogume/vu3b6u+qp6",
      "include_colab_link": true
    },
    "kernelspec": {
      "name": "python3",
      "display_name": "Python 3"
    },
    "language_info": {
      "name": "python"
    }
  },
  "cells": [
    {
      "cell_type": "markdown",
      "metadata": {
        "id": "view-in-github",
        "colab_type": "text"
      },
      "source": [
        "<a href=\"https://colab.research.google.com/github/RuleOfNight/NumPy/blob/main/Untitled0.ipynb\" target=\"_parent\"><img src=\"https://colab.research.google.com/assets/colab-badge.svg\" alt=\"Open In Colab\"/></a>"
      ]
    },
    {
      "cell_type": "code",
      "execution_count": 5,
      "metadata": {
        "colab": {
          "base_uri": "https://localhost:8080/"
        },
        "id": "bdKCO1abPoYJ",
        "outputId": "ff5ddc40-03a2-4736-9d10-9080501f2769"
      },
      "outputs": [
        {
          "output_type": "stream",
          "name": "stdout",
          "text": [
            "[[1 2 3]]\n",
            "[1 2 3]\n"
          ]
        }
      ],
      "source": [
        "import numpy as np\n",
        "\n",
        "#Ép kiểu của list thành array\n",
        "list = [[1,2,3]]\n",
        "a = np.array(list)\n",
        "print(a)\n",
        "a = np.array([1,2,3])\n",
        "print(a)"
      ]
    },
    {
      "cell_type": "code",
      "source": [
        "#Đếm số chiều của mảng\n",
        "a.ndim\n",
        "print(a.ndim)\n",
        "b = np.array([[1,2,3],[4,5,6]])\n",
        "print(b.ndim)"
      ],
      "metadata": {
        "colab": {
          "base_uri": "https://localhost:8080/"
        },
        "id": "edfJrdawvMge",
        "outputId": "ca4259da-dcbc-496d-a24e-b64cd5395204"
      },
      "execution_count": 8,
      "outputs": [
        {
          "output_type": "stream",
          "name": "stdout",
          "text": [
            "1\n",
            "2\n"
          ]
        }
      ]
    },
    {
      "cell_type": "code",
      "source": [
        "#Đếm số hàng và cột\n",
        "a.shape\n",
        "list = [\n",
        "    [1,2,3],\n",
        "    [4,5,6],\n",
        "    [7,8,9]\n",
        "]\n",
        "a = np.array(list)\n",
        "print(a.shape)"
      ],
      "metadata": {
        "colab": {
          "base_uri": "https://localhost:8080/"
        },
        "id": "3B1nTfsWvt0K",
        "outputId": "42348b27-a3de-4a08-d891-ae021ddbb274"
      },
      "execution_count": 10,
      "outputs": [
        {
          "output_type": "stream",
          "name": "stdout",
          "text": [
            "(3, 3)\n"
          ]
        }
      ]
    },
    {
      "cell_type": "code",
      "source": [
        "#Tạo 1 ma trận chỉ toàn 0\n",
        "a = np.zeros((4,5))\n",
        "print(a)"
      ],
      "metadata": {
        "colab": {
          "base_uri": "https://localhost:8080/"
        },
        "id": "0B_lcGhrv6_X",
        "outputId": "ab5b95f0-86a6-40d8-923d-e06c64e27ac6"
      },
      "execution_count": 14,
      "outputs": [
        {
          "output_type": "stream",
          "name": "stdout",
          "text": [
            "[[0. 0. 0. 0. 0.]\n",
            " [0. 0. 0. 0. 0.]\n",
            " [0. 0. 0. 0. 0.]\n",
            " [0. 0. 0. 0. 0.]]\n"
          ]
        }
      ]
    },
    {
      "cell_type": "code",
      "source": [
        "#Tạo 1 ma trận chỉ toàn 1\n",
        "a = np.ones((6,3))\n",
        "print(a)"
      ],
      "metadata": {
        "colab": {
          "base_uri": "https://localhost:8080/"
        },
        "id": "ZZ2kVNPpwZa1",
        "outputId": "5ee210b9-0166-4f03-ea2a-69be115fa118"
      },
      "execution_count": 16,
      "outputs": [
        {
          "output_type": "stream",
          "name": "stdout",
          "text": [
            "[[1. 1. 1.]\n",
            " [1. 1. 1.]\n",
            " [1. 1. 1.]\n",
            " [1. 1. 1.]\n",
            " [1. 1. 1.]\n",
            " [1. 1. 1.]]\n"
          ]
        }
      ]
    },
    {
      "cell_type": "code",
      "source": [
        "#Định dạng kiểu dữ liệu\n",
        "a.dtype\n",
        "a = np.zeros((5,5), dtype='int32')\n",
        "print(a)"
      ],
      "metadata": {
        "colab": {
          "base_uri": "https://localhost:8080/"
        },
        "id": "FSPu6gmvwf2p",
        "outputId": "17f3df8a-48c0-491f-804e-9f3576b61a6b"
      },
      "execution_count": 17,
      "outputs": [
        {
          "output_type": "stream",
          "name": "stdout",
          "text": [
            "[[0 0 0 0 0]\n",
            " [0 0 0 0 0]\n",
            " [0 0 0 0 0]\n",
            " [0 0 0 0 0]\n",
            " [0 0 0 0 0]]\n"
          ]
        }
      ]
    },
    {
      "cell_type": "code",
      "source": [
        "import random\n",
        "row = col = 4\n",
        "list = []\n",
        "\n",
        "\n",
        "for i in range(0,row+1):\n",
        "  row = []\n",
        "  for element in range(0,col+1):\n",
        "    row.append(random.randrange(0,101))\n",
        "  list.append(row)\n",
        "\n",
        "a = np.array(list)\n",
        "\n",
        "for i in list:\n",
        "  for j in i:\n",
        "    print('{:<5}'.format(j), end='')\n",
        "  print()"
      ],
      "metadata": {
        "colab": {
          "base_uri": "https://localhost:8080/"
        },
        "id": "0xhbkGOKwr7R",
        "outputId": "14749dcb-9eb7-49ad-d423-af7f07998921"
      },
      "execution_count": 64,
      "outputs": [
        {
          "output_type": "stream",
          "name": "stdout",
          "text": [
            "12   4    78   52   62   \n",
            "38   42   94   68   16   \n",
            "98   30   76   44   64   \n",
            "40   35   14   44   49   \n",
            "9    36   30   2    37   \n"
          ]
        }
      ]
    },
    {
      "cell_type": "code",
      "source": [
        "#Lấy kích cỡ mảng\n",
        "print(a.itemsize)"
      ],
      "metadata": {
        "colab": {
          "base_uri": "https://localhost:8080/"
        },
        "id": "LxGqz2zR0u0h",
        "outputId": "3b5ff78d-6664-41ed-ca70-83f6a152948f"
      },
      "execution_count": 54,
      "outputs": [
        {
          "output_type": "stream",
          "name": "stdout",
          "text": [
            "8\n"
          ]
        }
      ]
    },
    {
      "cell_type": "code",
      "source": [
        "#Lấy số lượng ptu có trong mảng\n",
        "print(a.size)"
      ],
      "metadata": {
        "colab": {
          "base_uri": "https://localhost:8080/"
        },
        "id": "-zFN7UzQ1Aur",
        "outputId": "1e26b068-5d40-4a6a-897b-83c9c766f5ba"
      },
      "execution_count": 56,
      "outputs": [
        {
          "output_type": "stream",
          "name": "stdout",
          "text": [
            "25\n"
          ]
        }
      ]
    },
    {
      "cell_type": "code",
      "source": [
        "#In ra giá trị tại 1 vị trí cụ thể\n",
        "print(a[1][1])\n",
        "print(a[4,2])\n",
        "#Chọn cả 1 vùng\n",
        "print(a[:,1])\n",
        "print(a[4,:])\n",
        "\n",
        "print(a[1:-1,2:-2])"
      ],
      "metadata": {
        "colab": {
          "base_uri": "https://localhost:8080/"
        },
        "id": "Qa3BLznn1FZ8",
        "outputId": "7ecf931a-36ca-49c0-cf94-cea7ef4b4adc"
      },
      "execution_count": 73,
      "outputs": [
        {
          "output_type": "stream",
          "name": "stdout",
          "text": [
            "42\n",
            "30\n",
            "[ 4 42 30 35 36]\n",
            "[ 9 36 30  2 37]\n",
            "[[94]\n",
            " [76]\n",
            " [14]]\n"
          ]
        }
      ]
    },
    {
      "cell_type": "code",
      "source": [
        "#Tạo 1 ma trận toàn số tự chọn\n",
        "num =10\n",
        "np.full((2,2),num)"
      ],
      "metadata": {
        "colab": {
          "base_uri": "https://localhost:8080/"
        },
        "id": "StxVJ4n43Vs2",
        "outputId": "1fca4e6f-7b06-40cb-aafd-fddf9ea532d7"
      },
      "execution_count": 75,
      "outputs": [
        {
          "output_type": "execute_result",
          "data": {
            "text/plain": [
              "array([[10, 10],\n",
              "       [10, 10]])"
            ]
          },
          "metadata": {},
          "execution_count": 75
        }
      ]
    },
    {
      "cell_type": "code",
      "source": [
        "#Tạo ma trận đơn vị\n",
        "np.identity(5)"
      ],
      "metadata": {
        "colab": {
          "base_uri": "https://localhost:8080/"
        },
        "id": "wYsgpdn73gIG",
        "outputId": "1822769e-8e23-437a-eee0-9f578ecf9f3f"
      },
      "execution_count": 76,
      "outputs": [
        {
          "output_type": "execute_result",
          "data": {
            "text/plain": [
              "array([[1., 0., 0., 0., 0.],\n",
              "       [0., 1., 0., 0., 0.],\n",
              "       [0., 0., 1., 0., 0.],\n",
              "       [0., 0., 0., 1., 0.],\n",
              "       [0., 0., 0., 0., 1.]])"
            ]
          },
          "metadata": {},
          "execution_count": 76
        }
      ]
    },
    {
      "cell_type": "code",
      "source": [
        "#Tính toán ma trận cơ bản\n",
        "a = np.array([1,2,3,4])\n",
        "print(a)\n",
        "print(a+2)\n",
        "print(a-2)\n",
        "print(a*2)\n",
        "print(a/2)"
      ],
      "metadata": {
        "colab": {
          "base_uri": "https://localhost:8080/"
        },
        "id": "Sx226xoy3jMt",
        "outputId": "8c5d4bdb-a079-48e8-abb9-220b5cd5dd96"
      },
      "execution_count": 77,
      "outputs": [
        {
          "output_type": "stream",
          "name": "stdout",
          "text": [
            "[1 2 3 4]\n",
            "[3 4 5 6]\n",
            "[-1  0  1  2]\n",
            "[2 4 6 8]\n",
            "[0.5 1.  1.5 2. ]\n"
          ]
        }
      ]
    },
    {
      "cell_type": "code",
      "source": [
        "#Lượng giác và các cthuc khác\n",
        "print(np.cos(a))\n",
        "print(np.sin(a))\n",
        "print(np.tan(a))\n",
        "print(np.sqrt(a))\n",
        "print(np.log(a))\n",
        "print(np.exp(a))\n"
      ],
      "metadata": {
        "colab": {
          "base_uri": "https://localhost:8080/"
        },
        "id": "3k3INWVN3nRU",
        "outputId": "43ee213c-b6f0-45bf-dc5a-d18d9d35b7b8"
      },
      "execution_count": 78,
      "outputs": [
        {
          "output_type": "stream",
          "name": "stdout",
          "text": [
            "[ 0.54030231 -0.41614684 -0.9899925  -0.65364362]\n",
            "[ 0.84147098  0.90929743  0.14112001 -0.7568025 ]\n",
            "[ 1.55740772 -2.18503986 -0.14254654  1.15782128]\n",
            "[1.         1.41421356 1.73205081 2.        ]\n",
            "[0.         0.69314718 1.09861229 1.38629436]\n",
            "[ 2.71828183  7.3890561  20.08553692 54.59815003]\n"
          ]
        }
      ]
    }
  ]
}
