{
  "nbformat": 4,
  "nbformat_minor": 0,
  "metadata": {
    "colab": {
      "provenance": [],
      "authorship_tag": "ABX9TyOMhjmhRGjOdDrIjaAwrFtC",
      "include_colab_link": true
    },
    "kernelspec": {
      "name": "python3",
      "display_name": "Python 3"
    },
    "language_info": {
      "name": "python"
    }
  },
  "cells": [
    {
      "cell_type": "markdown",
      "metadata": {
        "id": "view-in-github",
        "colab_type": "text"
      },
      "source": [
        "<a href=\"https://colab.research.google.com/github/RuleOfNight/NumPy/blob/main/Linear%20Algebra.ipynb\" target=\"_parent\"><img src=\"https://colab.research.google.com/assets/colab-badge.svg\" alt=\"Open In Colab\"/></a>"
      ]
    },
    {
      "cell_type": "code",
      "execution_count": null,
      "metadata": {
        "id": "xZ7ggh-G6I3a"
      },
      "outputs": [],
      "source": [
        "import numpy as np\n",
        "import random"
      ]
    },
    {
      "cell_type": "markdown",
      "source": [
        "# **Linear Algebra -  Đại số tuyến tính**"
      ],
      "metadata": {
        "id": "p6d9Kuvk6fho"
      }
    },
    {
      "cell_type": "code",
      "source": [
        "matrix_A = np.random.randint(0,100,size=(3, 4))\n",
        "\n",
        "print(matrix_A)\n",
        "\n",
        "matrix_B = np.random.randint(0,100,size=(4, 3))\n",
        "\n",
        "print(matrix_B)\n",
        "\n",
        "print(np.matmul(matrix_A,matrix_B))"
      ],
      "metadata": {
        "colab": {
          "base_uri": "https://localhost:8080/"
        },
        "id": "gDoHpWP86uhc",
        "outputId": "4577b4c5-3d1c-46bc-a055-eabf3f2201cd"
      },
      "execution_count": 14,
      "outputs": [
        {
          "output_type": "stream",
          "name": "stdout",
          "text": [
            "[[24 63 69 34]\n",
            " [60 86 15 66]\n",
            " [41  8 75 48]]\n",
            "[[31 58 97]\n",
            " [55 57 13]\n",
            " [35 16 91]\n",
            " [11 27 42]]\n",
            "[[ 6998  7005 10854]\n",
            " [ 7841 10404 11075]\n",
            " [ 4864  5330 12922]]\n"
          ]
        }
      ]
    },
    {
      "cell_type": "code",
      "source": [
        "#Tính định thức của ma trận\n",
        "matrix_A = np.random.randint(0,100,size=(3, 3))\n",
        "\n",
        "print(matrix_A)\n",
        "print()\n",
        "print(int(np.linalg.det(matrix_A)))\n"
      ],
      "metadata": {
        "colab": {
          "base_uri": "https://localhost:8080/"
        },
        "id": "V1VlZloC8WHP",
        "outputId": "06a6b815-2a56-429f-bd79-d53af66fa606"
      },
      "execution_count": 22,
      "outputs": [
        {
          "output_type": "stream",
          "name": "stdout",
          "text": [
            "[[82  0 89]\n",
            " [10 40 88]\n",
            " [84 90 92]]\n",
            "\n",
            "-566619\n"
          ]
        }
      ]
    },
    {
      "cell_type": "code",
      "source": [
        "#Tính ma trận nghịch đảo\n",
        "matrix_A = np.random.randint(0,100,size=(3, 3))\n",
        "\n",
        "print(matrix_A)\n",
        "print()\n",
        "print((np.linalg.inv(matrix_A)))"
      ],
      "metadata": {
        "colab": {
          "base_uri": "https://localhost:8080/"
        },
        "id": "1M5I2RjOJT_F",
        "outputId": "f248e1ed-afef-4156-d871-1fc632ea19ca"
      },
      "execution_count": 29,
      "outputs": [
        {
          "output_type": "stream",
          "name": "stdout",
          "text": [
            "[[88 17 30]\n",
            " [45 70 98]\n",
            " [83 85 84]]\n",
            "\n",
            "[[ 0.01218106 -0.00557843  0.00215779]\n",
            " [-0.02164748 -0.02437205  0.0361653 ]\n",
            " [ 0.00986914  0.03017421 -0.02682318]]\n"
          ]
        }
      ]
    },
    {
      "cell_type": "code",
      "source": [
        "#Tính hạng của ma trận(rank)\n",
        "matrix_A = np.random.randint(0,100,size=(3, 3))\n",
        "\n",
        "print(matrix_A)\n",
        "print()\n",
        "print(int(np.linalg.matrix_rank(matrix_A)))"
      ],
      "metadata": {
        "colab": {
          "base_uri": "https://localhost:8080/"
        },
        "id": "qr-18JUaKUC7",
        "outputId": "57927e92-d005-44e0-f369-e33173dda2e0"
      },
      "execution_count": 31,
      "outputs": [
        {
          "output_type": "stream",
          "name": "stdout",
          "text": [
            "[[73 21  6]\n",
            " [ 9 90 47]\n",
            " [56 40 36]]\n",
            "\n",
            "3\n"
          ]
        }
      ]
    },
    {
      "cell_type": "code",
      "source": [
        "#Lấy giá trị lớn/nhỏ nhất trong ma trận\n",
        "matrix_A = np.random.randint(0,100,size=(3, 3))\n",
        "\n",
        "print(matrix_A)\n",
        "print()\n",
        "print(np.max(matrix_A))\n",
        "print(np.min(matrix_A))\n",
        "#Tìm trong từng hàng/cột cụ thể\n",
        "print(np.max(matrix_A,axis=0))\n",
        "print(np.max(matrix_A,axis=1))"
      ],
      "metadata": {
        "colab": {
          "base_uri": "https://localhost:8080/"
        },
        "id": "RzBXpR5oKZCW",
        "outputId": "abfda967-ebb1-4b52-af55-1da8bbd067bd"
      },
      "execution_count": 36,
      "outputs": [
        {
          "output_type": "stream",
          "name": "stdout",
          "text": [
            "[[20 36 25]\n",
            " [81 87 33]\n",
            " [10 46 21]]\n",
            "\n",
            "87\n",
            "10\n",
            "[81 87 33]\n",
            "[36 87 46]\n"
          ]
        }
      ]
    },
    {
      "cell_type": "code",
      "source": [
        "#Tính tổng tất cả phần tử trong cả ma trận hoặc từng hàng cụ thể\n",
        "matrix_A = np.random.randint(0,100,size=(3, 3))\n",
        "\n",
        "print(matrix_A)\n",
        "print()\n",
        "print(np.sum(matrix_A))\n",
        "print()\n",
        "print(np.sum(matrix_A,axis=0))"
      ],
      "metadata": {
        "colab": {
          "base_uri": "https://localhost:8080/"
        },
        "id": "F0SKvY-kK86d",
        "outputId": "38acd5b3-edfc-4697-c006-7994371d12c7"
      },
      "execution_count": 39,
      "outputs": [
        {
          "output_type": "stream",
          "name": "stdout",
          "text": [
            "[[57 25 25]\n",
            " [65 34 27]\n",
            " [88 72 63]]\n",
            "\n",
            "456\n",
            "\n",
            "[210 131 115]\n"
          ]
        }
      ]
    },
    {
      "cell_type": "code",
      "source": [
        "#Sửa đổi số hàng và cột trong ma trận\n",
        "matrix_A = np.random.randint(0,100,size=(3, 3))\n",
        "\n",
        "print(matrix_A)\n",
        "print()\n",
        "print(np.reshape(matrix_A,(1,9)))\n",
        "#Lưu ý, số hàng và cột mới phải thỏa mãn số lượng phần tử có trong ma trận"
      ],
      "metadata": {
        "colab": {
          "base_uri": "https://localhost:8080/"
        },
        "id": "R6aez0ucL-FQ",
        "outputId": "de0104ef-8538-4a97-d216-8d1c773b7345"
      },
      "execution_count": 41,
      "outputs": [
        {
          "output_type": "stream",
          "name": "stdout",
          "text": [
            "[[16 66 80]\n",
            " [69 67 38]\n",
            " [34 85 79]]\n",
            "\n",
            "[[16 66 80 69 67 38 34 85 79]]\n"
          ]
        }
      ]
    },
    {
      "cell_type": "code",
      "source": [
        "#Stack\n",
        "a = np.random.randint(0,100,size=(1, 3))\n",
        "b = np.random.randint(0,100,size=(1, 3))\n",
        "\n",
        "print(np.vstack((a,b)))\n",
        "print()\n",
        "print(np.vstack((b,a)))\n",
        "print()\n",
        "np.vsplit(np.vstack((a,b)),2)\n",
        "\n",
        "print(np.hstack((a,b)))\n",
        "print()\n",
        "print(np.hstack((b,a)))\n",
        "print()\n",
        "np.hsplit(np.hstack((a,b)),2)"
      ],
      "metadata": {
        "colab": {
          "base_uri": "https://localhost:8080/"
        },
        "id": "76RiTd3NMjb2",
        "outputId": "82c2ce0f-ed84-4083-d993-894b6967bc04"
      },
      "execution_count": 47,
      "outputs": [
        {
          "output_type": "stream",
          "name": "stdout",
          "text": [
            "[[94  8 55]\n",
            " [ 9 53 40]]\n",
            "\n",
            "[[ 9 53 40]\n",
            " [94  8 55]]\n",
            "\n",
            "[[94  8 55  9 53 40]]\n",
            "\n",
            "[[ 9 53 40 94  8 55]]\n",
            "\n"
          ]
        },
        {
          "output_type": "execute_result",
          "data": {
            "text/plain": [
              "[array([[94,  8, 55]]), array([[ 9, 53, 40]])]"
            ]
          },
          "metadata": {},
          "execution_count": 47
        }
      ]
    },
    {
      "cell_type": "markdown",
      "source": [
        "# **Ứng dụng xử lí ra vào File**"
      ],
      "metadata": {
        "id": "Xk8Rwc1gOEGK"
      }
    },
    {
      "cell_type": "code",
      "source": [
        "#Lấy dữ liệu từ file\n",
        "data = np.genfromtxt('data.txt',delimiter=',', dtype='int32')\n",
        "print(data)"
      ],
      "metadata": {
        "colab": {
          "base_uri": "https://localhost:8080/"
        },
        "id": "L-AG1oizM1bO",
        "outputId": "d9e4412b-b974-457d-92f6-0b001592d781"
      },
      "execution_count": 52,
      "outputs": [
        {
          "output_type": "stream",
          "name": "stdout",
          "text": [
            "[[  1  13  21  11 196  75   4   3  34   6   7   8   0   1]\n",
            " [  3  42  12  33 766  75   4  55   6   4   3   4   5   6]\n",
            " [  1  22  33  11 999  11   2   1  78   0   1   2   9   8]]\n"
          ]
        }
      ]
    },
    {
      "cell_type": "code",
      "source": [
        "#Kiểm tra điều kiện của data\n",
        "data >50\n",
        "print(~(data > 50)) #Dấu ~ để căn phần tử\n",
        "print()\n",
        "data[data > 50]\n",
        "print(data[data %2 == 0]) #Chỉ in ra các giá trị thỏa mãn"
      ],
      "metadata": {
        "colab": {
          "base_uri": "https://localhost:8080/"
        },
        "id": "FGpunV0-Od_n",
        "outputId": "888a536d-4cec-4a7c-b81b-98dc7e2a5728"
      },
      "execution_count": 60,
      "outputs": [
        {
          "output_type": "stream",
          "name": "stdout",
          "text": [
            "[[ True  True  True  True False False  True  True  True  True  True  True\n",
            "   True  True]\n",
            " [ True  True  True  True False False  True False  True  True  True  True\n",
            "   True  True]\n",
            " [ True  True  True  True False  True  True  True False  True  True  True\n",
            "   True  True]]\n",
            "\n",
            "[196   4  34   6   8   0  42  12 766   4   6   4   4   6  22   2  78   0\n",
            "   2   8]\n"
          ]
        }
      ]
    },
    {
      "cell_type": "code",
      "source": [],
      "metadata": {
        "id": "t6gJLtsAPYRy"
      },
      "execution_count": null,
      "outputs": []
    }
  ]
}